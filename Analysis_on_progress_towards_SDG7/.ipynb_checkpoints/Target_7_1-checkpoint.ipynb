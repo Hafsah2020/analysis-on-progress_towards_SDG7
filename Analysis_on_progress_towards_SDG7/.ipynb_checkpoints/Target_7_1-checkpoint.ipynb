{
 "cells": [
  {
   "cell_type": "markdown",
   "id": "1ddb75fb",
   "metadata": {
    "slideshow": {
     "slide_type": "slide"
    }
   },
   "source": [
    "# Analysis_on_progress_towards_SDG7\n",
    "### By Hafsah Anibaba"
   ]
  },
  {
   "cell_type": "code",
   "execution_count": null,
   "id": "e15dd612",
   "metadata": {},
   "outputs": [],
   "source": []
  },
  {
   "cell_type": "markdown",
   "id": "53d47eaa",
   "metadata": {
    "slideshow": {
     "slide_type": "subslide"
    }
   },
   "source": [
    "The data to be used has been extracted from the original data retrieved from the worldbank website through this <a href= 'api.worldbank.org/v2/country'>link</a><br>\n",
    "After data wrangling process <a href= '../Data_wrangling_on_progress_towards_SDG7/Target7_1.ipynb'>here</a>, data was extracted and cleaned for the goal target"
   ]
  },
  {
   "cell_type": "code",
   "execution_count": null,
   "id": "fed921c9",
   "metadata": {
    "slideshow": {
     "slide_type": "skip"
    }
   },
   "outputs": [],
   "source": [
    "# import all necessay libraies\n",
    "\n",
    "%matplotlib inline\n",
    "import pandas as pd\n",
    "import seaborn as sns\n",
    "import matplotlib.pyplot as plt\n",
    "from wordcloud import WordCloud\n",
    "from collections import Counter\n",
    "import warnings\n",
    "warnings.filterwarnings('ignore')"
   ]
  },
  {
   "cell_type": "markdown",
   "id": "d8eb215b",
   "metadata": {
    "slideshow": {
     "slide_type": "slide"
    }
   },
   "source": [
    "## Target 7.1: By 2030, ensure universal access to affordable, reliable and modern energy services\n",
    "<b> \n",
    "    * Check trend in access to energy over the years\n",
    "    * Check countries with high access and countries with low access\n",
    "    * Check countries with significantly high change\n",
    "    * Check countries with significantly low change"
   ]
  },
  {
   "cell_type": "code",
   "execution_count": null,
   "id": "e2efde93",
   "metadata": {
    "slideshow": {
     "slide_type": "skip"
    }
   },
   "outputs": [],
   "source": [
    "#read in the data available for all countries on access to electricity\n",
    "\n",
    "data1 = pd.read_csv('../data/extracted_data/years_with_data_for_all_countries.csv', index_col = 'Country Name')\n",
    "\n",
    "data1.head(2)"
   ]
  },
  {
   "cell_type": "code",
   "execution_count": null,
   "id": "0b1bec21",
   "metadata": {
    "slideshow": {
     "slide_type": "skip"
    }
   },
   "outputs": [],
   "source": [
    "#read in the data of countries that had data for all the years\n",
    "\n",
    "data2 = pd.read_csv('../data/extracted_data/countries_that_had_data_for_all_years.csv', index_col = 'Country Name')\n",
    "\n",
    "data2.head(2)"
   ]
  },
  {
   "cell_type": "markdown",
   "id": "4953dce0",
   "metadata": {
    "slideshow": {
     "slide_type": "slide"
    }
   },
   "source": [
    "### EDA"
   ]
  },
  {
   "cell_type": "code",
   "execution_count": null,
   "id": "fffb846e",
   "metadata": {
    "slideshow": {
     "slide_type": "skip"
    }
   },
   "outputs": [],
   "source": [
    "print(f'This data has records on {data1.shape[0]} countries for {data1.shape[1]} years')"
   ]
  },
  {
   "cell_type": "code",
   "execution_count": null,
   "id": "a118feab",
   "metadata": {
    "slideshow": {
     "slide_type": "skip"
    }
   },
   "outputs": [],
   "source": [
    "data1T = data1.T\n",
    " \n",
    "data1T.head()"
   ]
  },
  {
   "cell_type": "code",
   "execution_count": null,
   "id": "63115ebe",
   "metadata": {
    "slideshow": {
     "slide_type": "skip"
    }
   },
   "outputs": [],
   "source": [
    "data1T['mean per year'] = data1T.mean(axis = 1)\n",
    "\n",
    "data1T.head()"
   ]
  },
  {
   "cell_type": "code",
   "execution_count": null,
   "id": "8abac91d",
   "metadata": {
    "scrolled": false,
    "slideshow": {
     "slide_type": "skip"
    }
   },
   "outputs": [],
   "source": [
    "data1T.loc['mean per country'] = data1T.mean(axis = 0)\n",
    "\n",
    "\n",
    "data1T.tail()"
   ]
  },
  {
   "cell_type": "code",
   "execution_count": null,
   "id": "7e67399f",
   "metadata": {
    "scrolled": true,
    "slideshow": {
     "slide_type": "skip"
    }
   },
   "outputs": [],
   "source": [
    "average_access_per_country = data1T.iloc[-1]\n",
    "average_access_per_country"
   ]
  },
  {
   "cell_type": "code",
   "execution_count": null,
   "id": "17088278",
   "metadata": {
    "scrolled": false,
    "slideshow": {
     "slide_type": "skip"
    }
   },
   "outputs": [],
   "source": [
    "data1T = data1T.drop(data1T.index[-1])"
   ]
  },
  {
   "cell_type": "code",
   "execution_count": null,
   "id": "985f1e1b",
   "metadata": {
    "slideshow": {
     "slide_type": "skip"
    }
   },
   "outputs": [],
   "source": [
    "data1T.index = pd.to_datetime(data1T.index)"
   ]
  },
  {
   "cell_type": "code",
   "execution_count": null,
   "id": "0ff3f0e2",
   "metadata": {
    "slideshow": {
     "slide_type": "slide"
    }
   },
   "outputs": [],
   "source": [
    "sns.lineplot(y = data1T['mean per year'], x = data1T.index)\n",
    "plt.xlim(pd.Timestamp('2008-01-01'), pd.Timestamp('2021-01-01'))\n",
    "plt.title('Global trend in access to electricity from 2009 to 2020', pad = 7,\n",
    "         fontdict = {'color': 'green', 'weight': 'bold'});\n",
    "plt.xlabel('years', fontdict = {'color': 'green', 'weight': 'light', 'style': 'italic'})\n",
    "plt.ylabel('average global access \\n to electricity', \n",
    "           fontdict = {'color': 'green', 'weight': 'light', 'style': 'italic'});\n",
    "plt.text(pd.Timestamp('2022-01-01'), 82, 'It can be seen there has been linear increase in the\\n\\\n",
    "average global access to electricity', fontdict = {'color': 'blue', 'weight': 'light',\\\n",
    "                                                   'style': 'italic'});"
   ]
  },
  {
   "cell_type": "code",
   "execution_count": null,
   "id": "c674b8a8",
   "metadata": {
    "slideshow": {
     "slide_type": "skip"
    }
   },
   "outputs": [],
   "source": [
    "full_access = average_access_per_country[average_access_per_country == 100].index.to_list()"
   ]
  },
  {
   "cell_type": "code",
   "execution_count": null,
   "id": "e080ef8e",
   "metadata": {
    "slideshow": {
     "slide_type": "subslide"
    }
   },
   "outputs": [],
   "source": [
    "percent = (len(full_access)/ data1.shape[0]) *100\n",
    "print(f'{percent:.2f}% of the countries have average of 100% of their population with \\\n",
    "access to electricity from 2009 to 2020')"
   ]
  },
  {
   "cell_type": "code",
   "execution_count": null,
   "id": "22e5f5cb",
   "metadata": {
    "slideshow": {
     "slide_type": "skip"
    }
   },
   "outputs": [],
   "source": [
    "def world_cloud(data, title):\n",
    "    word_could_dict=Counter(data)\n",
    "    wordcloud = WordCloud(width = 1000, height = 500).generate_from_frequencies(word_could_dict)\n",
    "\n",
    "    plt.figure(figsize=(15,8))\n",
    "    plt.title(title, pad = 7,\n",
    "         fontdict = {'color': 'green', 'weight': 'bold', 'fontsize': 32});\n",
    "\n",
    "    plt.imshow(wordcloud)\n",
    "    plt.axis(\"off\")\n",
    "    plt.show()\n",
    "    "
   ]
  },
  {
   "cell_type": "code",
   "execution_count": null,
   "id": "e32203e0",
   "metadata": {
    "scrolled": false,
    "slideshow": {
     "slide_type": "slide"
    }
   },
   "outputs": [],
   "source": [
    "world_cloud(full_access, 'Countries with average of 100% access to electricity')"
   ]
  },
  {
   "cell_type": "code",
   "execution_count": null,
   "id": "d84f2ab1",
   "metadata": {
    "slideshow": {
     "slide_type": "slide"
    }
   },
   "outputs": [],
   "source": [
    "plt.title('Distribution of frequency of average access to electricity', pad = 7,\n",
    "         fontdict = {'color': 'green', 'weight': 'bold', 'fontsize': 18});\n",
    "sns.histplot(data = average_access_per_country, bins = 10);\n",
    "dist = {'mean of distribution': average_access_per_country.mean(),\\\n",
    "       'median of distribution': average_access_per_country.median(),\\\n",
    "       'mode of distribution': int(average_access_per_country.mode().values)}\n",
    "\n",
    "for i in range(len(dist)):\n",
    "    plt.text(120, 120 -(20 *i), f'{list(dist)[i]} is {dist[list(dist)[i]]:0.2f}')\n",
    "    "
   ]
  },
  {
   "cell_type": "markdown",
   "id": "0d5d9208",
   "metadata": {
    "slideshow": {
     "slide_type": "subslide"
    }
   },
   "source": [
    "<b> Most countries have access between 90% to 100% to electricity between 2009 and 2020."
   ]
  },
  {
   "cell_type": "code",
   "execution_count": null,
   "id": "a24ebb98",
   "metadata": {
    "slideshow": {
     "slide_type": "skip"
    }
   },
   "outputs": [],
   "source": [
    "less_access = average_access_per_country[average_access_per_country < 50].index.to_list()"
   ]
  },
  {
   "cell_type": "code",
   "execution_count": null,
   "id": "d2a71cce",
   "metadata": {
    "slideshow": {
     "slide_type": "subslide"
    }
   },
   "outputs": [],
   "source": [
    "percent = (len(less_access)/ data1.shape[0]) *100\n",
    "print(f'{percent:.2f}% of the countries have less than 50% average of their population with access to electricity')"
   ]
  },
  {
   "cell_type": "code",
   "execution_count": null,
   "id": "d4902789",
   "metadata": {
    "slideshow": {
     "slide_type": "slide"
    }
   },
   "outputs": [],
   "source": [
    "world_cloud(less_access, 'countries that have less than 50% average of their population with access to electricity')"
   ]
  },
  {
   "cell_type": "code",
   "execution_count": null,
   "id": "61cb1c7f",
   "metadata": {
    "slideshow": {
     "slide_type": "skip"
    }
   },
   "outputs": [],
   "source": [
    "data_change = data1.copy()\n",
    "data_change.head()"
   ]
  },
  {
   "cell_type": "code",
   "execution_count": null,
   "id": "3b1cf3b2",
   "metadata": {
    "slideshow": {
     "slide_type": "skip"
    }
   },
   "outputs": [],
   "source": [
    "data_change['change'] = data_change['2020'] - data_change['2009']"
   ]
  },
  {
   "cell_type": "code",
   "execution_count": null,
   "id": "5dcaf5d7",
   "metadata": {
    "slideshow": {
     "slide_type": "subslide"
    }
   },
   "outputs": [],
   "source": [
    "positive_change = data_change[data_change['change'] > 0]\n",
    "print(f'Number of countries with positive change is {len(positive_change)}')"
   ]
  },
  {
   "cell_type": "code",
   "execution_count": null,
   "id": "ef86d6e1",
   "metadata": {
    "slideshow": {
     "slide_type": "subslide"
    }
   },
   "outputs": [],
   "source": [
    "negative_change = data_change[data_change['change'] < 0]\n",
    "print(f'Number of countries with negative change is {len(negative_change)}')"
   ]
  },
  {
   "cell_type": "code",
   "execution_count": null,
   "id": "2cacd10d",
   "metadata": {
    "slideshow": {
     "slide_type": "subslide"
    }
   },
   "outputs": [],
   "source": [
    "no_change = data_change[data_change['change'] == 0]\n",
    "\n",
    "print(f'Number of countries with no change is {len(no_change)}')"
   ]
  },
  {
   "cell_type": "code",
   "execution_count": null,
   "id": "4aad537d",
   "metadata": {
    "slideshow": {
     "slide_type": "subslide"
    }
   },
   "outputs": [],
   "source": [
    "high = str(data_change[data_change['change'] == data_change['change'].max()].index[0])\n",
    "print(f'The country with highest change is {high}')"
   ]
  },
  {
   "cell_type": "code",
   "execution_count": null,
   "id": "76969f88",
   "metadata": {
    "slideshow": {
     "slide_type": "subslide"
    }
   },
   "outputs": [],
   "source": [
    "low = str(data_change[data_change['change'] == data_change['change'].min()].index[0])\n",
    "print(f'The country with highest change is {low}')"
   ]
  },
  {
   "cell_type": "code",
   "execution_count": null,
   "id": "1af1c81c",
   "metadata": {
    "slideshow": {
     "slide_type": "skip"
    }
   },
   "outputs": [],
   "source": [
    "def plot_trends(data, observation, title):\n",
    "    plt.figure(figsize = (10,5))\n",
    "    sns.lineplot(data = data)\n",
    "    plt.ylim(0, 120)\n",
    "    plt.legend(bbox_to_anchor = (1.5, 1))\n",
    "    plt.title(title, pad = 7,\n",
    "         fontdict = {'color': 'green', 'weight': 'bold', 'fontsize': 18})\n",
    "    plt.text(0, -10, f'{observation}', fontdict = {'color': 'green', 'weight': 'bold', 'fontsize': 20},\n",
    "        wrap =True, verticalalignment = 'top');"
   ]
  },
  {
   "cell_type": "code",
   "execution_count": null,
   "id": "36dfab3e",
   "metadata": {
    "slideshow": {
     "slide_type": "slide"
    }
   },
   "outputs": [],
   "source": [
    "plot_data = negative_change.iloc[:,:-1].T\n",
    "observation = '''There were slight drop in the % access to electricity of the countries, except libya \n",
    "that had a linear drop in electricity but is increasing back,Turks also had sudden drop in 2012 but picked again\n",
    "in 2013, Syrian Arab Republic might still be reducing'''\n",
    "title = 'Trend in access to electricity for countries with negattive change'\n",
    "plot_trends(plot_data, observation, title)"
   ]
  },
  {
   "cell_type": "code",
   "execution_count": null,
   "id": "cd8ec27b",
   "metadata": {
    "slideshow": {
     "slide_type": "slide"
    }
   },
   "outputs": [],
   "source": [
    "plot_data = no_change.iloc[:,:-1].T\n",
    "observation = '''Countries with no change in access\n",
    "from 2009 to 2020 had average of 100% of their\n",
    "population with access to electricity'''\n",
    "title = 'Trend in access to electricity for countries with no change'\n",
    "plot_trends(plot_data, observation, title)"
   ]
  },
  {
   "cell_type": "markdown",
   "id": "228a5d7b",
   "metadata": {
    "slideshow": {
     "slide_type": "skip"
    }
   },
   "source": [
    "<b>many countries had positive change I want to check trend in countries that had higher than 30% change from 2009 to 2020"
   ]
  },
  {
   "cell_type": "code",
   "execution_count": null,
   "id": "fb78e95a",
   "metadata": {
    "slideshow": {
     "slide_type": "slide"
    }
   },
   "outputs": [],
   "source": [
    "greater_than_30 = positive_change[positive_change['change'] > 30]\n",
    "plot_data = greater_than_30.iloc[:,:-1].T\n",
    "observation = '''Afghanistan has had some sudden changes,other countries have been increasing\n",
    "steadily But Cambodia had a sudden high increase from 2016 to 2017 and a sudden decrease from\n",
    "2017 t0 2018'''\n",
    "title = 'Trend in access to electricity for countries with positive change greater than 30%'\n",
    "plot_trends(plot_data, observation, title)"
   ]
  },
  {
   "cell_type": "code",
   "execution_count": null,
   "id": "308ed4b7",
   "metadata": {
    "slideshow": {
     "slide_type": "slide"
    }
   },
   "outputs": [],
   "source": [
    "less_than_5 = positive_change[positive_change['change'] < 5]\n",
    "length = len(less_than_5)\n",
    "plot_data = less_than_5.iloc[:length // 2,:-1].T\n",
    "observation = '''Many countries with low positive change \n",
    "already have 100% of their population with \n",
    "access to electricity, Equatorial Guinea is \n",
    "still between 65% and 66%'''\n",
    "title = 'Trend in access to electricity for countries with positive change less than 5%'\n",
    "plot_trends(plot_data, observation, title)"
   ]
  },
  {
   "cell_type": "markdown",
   "id": "8ccf69fd",
   "metadata": {
    "slideshow": {
     "slide_type": "skip"
    }
   },
   "source": [
    "<b> Because many countries had less than 5% change I will divide them into two parts for visualisation"
   ]
  },
  {
   "cell_type": "code",
   "execution_count": null,
   "id": "32c56617",
   "metadata": {
    "slideshow": {
     "slide_type": "slide"
    }
   },
   "outputs": [],
   "source": [
    "less_than_5 = positive_change[positive_change['change'] < 5]\n",
    "length = len(less_than_5)\n",
    "plot_data = less_than_5.iloc[length // 2:,:-1].T\n",
    "observation = '''South Sudan and Chad has made no progress and has very low percent of\n",
    "access to electricity'''\n",
    "title = 'Trend in access to electricity for countries with positive change greater than 5%'\n",
    "plot_trends(plot_data, observation, title)"
   ]
  },
  {
   "cell_type": "code",
   "execution_count": null,
   "id": "f7a0308b",
   "metadata": {
    "slideshow": {
     "slide_type": "skip"
    }
   },
   "outputs": [],
   "source": [
    "data2T = data2.T"
   ]
  },
  {
   "cell_type": "code",
   "execution_count": null,
   "id": "2d2ca90f",
   "metadata": {
    "slideshow": {
     "slide_type": "skip"
    }
   },
   "outputs": [],
   "source": [
    "data2T['mean per year'] = data2T.mean(axis = 1)\n",
    "\n",
    "data2T.head()"
   ]
  },
  {
   "cell_type": "code",
   "execution_count": null,
   "id": "57a26e7d",
   "metadata": {
    "slideshow": {
     "slide_type": "slide"
    }
   },
   "outputs": [],
   "source": [
    "sns.lineplot(y = data2T['mean per year'], x = data2T.index)\n",
    "plt.ylim(top = 100)\n",
    "plt.title('Global trend in access to electricity from 1990 to 2020', pad = 7,\n",
    "         fontdict = {'color': 'green', 'weight': 'bold'});\n",
    "plt.xlabel('years', fontdict = {'color': 'green', 'weight': 'light', 'style': 'italic'})\n",
    "plt.ylabel('average global access \\n to electricity', \n",
    "           fontdict = {'color': 'green', 'weight': 'light', 'style': 'italic'});\n",
    "plt.xticks(rotation = 90);\n",
    "plt.text(35, 97, 'It can be seen there has been linear increase in the\\n\\\n",
    " average global access to electricity', fontdict = {'color': 'blue', 'weight': 'light',\\\n",
    "                                                'style': 'italic'});"
   ]
  },
  {
   "cell_type": "markdown",
   "id": "50311949",
   "metadata": {
    "slideshow": {
     "slide_type": "slide"
    }
   },
   "source": [
    "### Conclusion\n",
    "<b> From the analysis there has been significant progress towards this target of SDG7. \n",
    "    * More focus can be directed to countries with small positive change and small % of thir population with access to electricity\n",
    "    * Countries with no change can still maintain their strategies because they have high percent access to electricity\n",
    "    * There can be more investigations on `Turks and Caicos Island` and `Syrian Arabic Republic` \n",
    "    to see why there might be decrease in access to electricity\n",
    "    * Afghanistan can be studied  to see why they sometimes have sudden drop and how they manage \n",
    "    to get back on track immediately\n",
    "    * Solomon Islands can also be studied to see how they were able to increase access to electricity and even though they are still increasing, there should be more studies to see how they can increase\n",
    "    "
   ]
  },
  {
   "cell_type": "code",
   "execution_count": null,
   "id": "a71adb9f",
   "metadata": {
    "slideshow": {
     "slide_type": "skip"
    }
   },
   "outputs": [],
   "source": [
    "!jupyter nbconvert Target_7_1.ipynb --to slides --post serve --no-input --no-prompt"
   ]
  },
  {
   "cell_type": "code",
   "execution_count": null,
   "id": "b132fa45",
   "metadata": {},
   "outputs": [],
   "source": []
  }
 ],
 "metadata": {
  "celltoolbar": "Slideshow",
  "kernelspec": {
   "display_name": "Python 3",
   "language": "python",
   "name": "python3"
  },
  "language_info": {
   "codemirror_mode": {
    "name": "ipython",
    "version": 3
   },
   "file_extension": ".py",
   "mimetype": "text/x-python",
   "name": "python",
   "nbconvert_exporter": "python",
   "pygments_lexer": "ipython3",
   "version": "3.7.3"
  }
 },
 "nbformat": 4,
 "nbformat_minor": 5
}
